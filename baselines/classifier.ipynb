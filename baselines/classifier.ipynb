{
 "cells": [
  {
   "cell_type": "code",
   "execution_count": 169,
   "metadata": {},
   "outputs": [],
   "source": [
    "import numpy as np\n",
    "import pandas as pd\n",
    "\n",
    "from sklearn.model_selection import train_test_split\n",
    "from sklearn.model_selection import cross_val_score\n",
    "from sklearn.metrics import accuracy_score\n",
    "from sklearn.feature_selection import SelectKBest\n",
    "from sklearn.pipeline import make_pipeline\n",
    "from sklearn.preprocessing import StandardScaler\n",
    "from sklearn.svm import SVC\n",
    "from sklearn.ensemble import GradientBoostingClassifier, RandomForestClassifier, AdaBoostClassifier\n",
    "from sklearn.neural_network import MLPClassifier\n",
    "\n"
   ]
  },
  {
   "cell_type": "code",
   "execution_count": null,
   "metadata": {},
   "outputs": [],
   "source": [
    "# Data\n",
    "df_gpt4_orig = pd.read_csv('./writing_unigram_mincount=3/writing_gpt-4.original.unigram.fftnorm.txt')\n",
    "df_gpt4_orig"
   ]
  },
  {
   "cell_type": "code",
   "execution_count": null,
   "metadata": {},
   "outputs": [],
   "source": [
    "df_gpt4_orig['sdiff']  = df_gpt4_orig['freq'] < df_gpt4_orig['freq'].shift(1, fill_value=0)\n",
    "df_gpt4_orig['sdiff'] = df_gpt4_orig['sdiff'].astype(int)\n",
    "df_gpt4_orig['sid'] = df_gpt4_orig['sdiff'].cumsum()\n",
    "df_gpt4_orig"
   ]
  },
  {
   "cell_type": "code",
   "execution_count": null,
   "metadata": {},
   "outputs": [],
   "source": [
    "freqs = []\n",
    "features = []\n",
    "for sid, group in df_gpt4_orig.groupby('sid'):\n",
    "    freqs.append(group['freq'].values)\n",
    "    features.append(group['power'].values)\n",
    "\n",
    "print(len(features))\n",
    "feature_sizes = [len(f) for f in features]\n",
    "print(feature_sizes[:10]) # features are of different sizes, thus need interpolation\n",
    "print(max(feature_sizes), min(feature_sizes), np.mean(feature_sizes))"
   ]
  },
  {
   "cell_type": "code",
   "execution_count": null,
   "metadata": {},
   "outputs": [],
   "source": [
    "interp_len = 500\n",
    "new_freq = np.linspace(0, 0.5, interp_len)\n",
    "features_interp = []\n",
    "for i in range(len(features)):\n",
    "    f_interp = np.interp(new_freq, freqs[i], features[i])\n",
    "    features_interp.append(f_interp)\n",
    "\n",
    "print(len(features_interp))\n",
    "print(set([len(f) for f in features_interp]))"
   ]
  },
  {
   "cell_type": "code",
   "execution_count": 188,
   "metadata": {},
   "outputs": [],
   "source": [
    "def get_features(spec_file: str, interp_len: int = 500):\n",
    "    df = pd.read_csv(spec_file)\n",
    "    df['sdiff']  = df['freq'] < df['freq'].shift(1, fill_value=0)\n",
    "    df['sdiff'] = df['sdiff'].astype(int)\n",
    "    df['sid'] = df['sdiff'].cumsum()\n",
    "\n",
    "    features_interp = []\n",
    "    for sid, group in df.groupby('sid'):\n",
    "        freqs = group['freq'].values\n",
    "        features = group['power'].values\n",
    "        new_freq = np.linspace(0, 0.5, interp_len)\n",
    "        new_feat = np.interp(new_freq, freqs, features)\n",
    "        features_interp.append(new_feat)\n",
    "\n",
    "    return np.array(features_interp)"
   ]
  },
  {
   "cell_type": "code",
   "execution_count": 215,
   "metadata": {},
   "outputs": [
    {
     "name": "stdout",
     "output_type": "stream",
     "text": [
      "(150, 500) (150,)\n",
      "(150, 500) (150,)\n"
     ]
    }
   ],
   "source": [
    "# x_gpt4_orig = get_features('./writing_unigram_mincount=3/writing_gpt-4.original.unigram.fftnorm.txt')\n",
    "x_gpt4_orig = get_features('../data/gpt-4/writing_gpt-4.original.gpt2xl.fftnorm.txt')\n",
    "y_gpt4_orig = np.zeros(x_gpt4_orig.shape[0])\n",
    "print(x_gpt4_orig.shape, y_gpt4_orig.shape)\n",
    "\n",
    "# x_gpt4_samp = get_features('./writing_unigram_mincount=3/writing_gpt-4.sampled.unigram.fftnorm.txt')\n",
    "x_gpt4_sampled = get_features('../data/gpt-4/writing_gpt-4.sampled.gpt2xl.fftnorm.txt')\n",
    "y_gpt4_samp = np.ones(x_gpt4_samp.shape[0])\n",
    "print(x_gpt4_samp.shape, y_gpt4_samp.shape)\n",
    "\n",
    "x_gpt4 = np.concatenate([x_gpt4_orig, x_gpt4_samp], axis=0)\n",
    "y_gpt4 = np.concatenate([y_gpt4_orig, y_gpt4_samp], axis=0)"
   ]
  },
  {
   "cell_type": "code",
   "execution_count": 200,
   "metadata": {},
   "outputs": [
    {
     "name": "stdout",
     "output_type": "stream",
     "text": [
      "(150, 500) (150,)\n",
      "(150, 500) (150,)\n"
     ]
    }
   ],
   "source": [
    "x_gpt3_orig = get_features('./writing_unigram_mincount=3/writing_gpt-3.5-turbo.original.unigram.fftnorm.txt')\n",
    "y_gpt3_orig = np.zeros(x_gpt3_orig.shape[0])\n",
    "print(x_gpt3_orig.shape, y_gpt3_orig.shape)\n",
    "\n",
    "x_gpt3_samp = get_features('./writing_unigram_mincount=3/writing_gpt-3.5-turbo.sampled.unigram.fftnorm.txt')\n",
    "y_gpt3_samp = np.ones(x_gpt3_samp.shape[0])\n",
    "print(x_gpt3_samp.shape, y_gpt3_samp.shape)\n",
    "\n",
    "x_gpt3 = np.concatenate([x_gpt3_orig, x_gpt3_samp], axis=0)\n",
    "y_gpt3 = np.concatenate([y_gpt3_orig, y_gpt3_samp], axis=0)"
   ]
  },
  {
   "cell_type": "code",
   "execution_count": 205,
   "metadata": {},
   "outputs": [
    {
     "name": "stdout",
     "output_type": "stream",
     "text": [
      "(150, 500) (150,)\n",
      "(150, 500) (150,)\n"
     ]
    }
   ],
   "source": [
    "x_davinci_orig = get_features('./writing_unigram_mincount=3/writing_davinci.original.unigram.fftnorm.txt')\n",
    "y_davinci_orig = np.zeros(x_davinci_orig.shape[0])\n",
    "print(x_davinci_orig.shape, y_davinci_orig.shape)\n",
    "\n",
    "x_davinci_samp = get_features('./writing_unigram_mincount=3/writing_davinci.sampled.unigram.fftnorm.txt')\n",
    "y_davinci_samp = np.ones(x_davinci_samp.shape[0])\n",
    "print(x_davinci_samp.shape, y_davinci_samp.shape)\n",
    "\n",
    "x_davinci = np.concatenate([x_davinci_orig, x_davinci_samp], axis=0)\n",
    "y_davinci = np.concatenate([y_davinci_orig, y_davinci_samp], axis=0)"
   ]
  },
  {
   "cell_type": "code",
   "execution_count": 217,
   "metadata": {},
   "outputs": [
    {
     "name": "stdout",
     "output_type": "stream",
     "text": [
      "train: (240, 500) (240,)\n",
      "test: (60, 500) (60,)\n"
     ]
    }
   ],
   "source": [
    "x_train, x_test, y_train, y_test = train_test_split(\n",
    "    x_gpt4, y_gpt4, test_size=0.2, random_state=42)\n",
    "# x_train, x_test, y_train, y_test = train_test_split(\n",
    "#     x_davinci, y_davinci, test_size=0.2, random_state=42)\n",
    "\n",
    "print('train:', x_train.shape, y_train.shape)\n",
    "print('test:', x_test.shape, y_test.shape)"
   ]
  },
  {
   "cell_type": "code",
   "execution_count": 218,
   "metadata": {},
   "outputs": [
    {
     "name": "stdout",
     "output_type": "stream",
     "text": [
      "0.7666666666666667\n"
     ]
    }
   ],
   "source": [
    "model = make_pipeline(StandardScaler(), \n",
    "                      SVC(gamma='auto', kernel='rbf', C=1))\n",
    "model.fit(x_train, y_train)\n",
    "y_pred = model.predict(x_test)\n",
    "accuracy = accuracy_score(y_test, y_pred)\n",
    "print(accuracy)"
   ]
  },
  {
   "cell_type": "code",
   "execution_count": 219,
   "metadata": {},
   "outputs": [
    {
     "name": "stdout",
     "output_type": "stream",
     "text": [
      "0.6333333333333333\n"
     ]
    }
   ],
   "source": [
    "model = make_pipeline(StandardScaler(), GradientBoostingClassifier())\n",
    "model.fit(x_train, y_train)\n",
    "y_pred = model.predict(x_test)\n",
    "accuracy = accuracy_score(y_test, y_pred)\n",
    "print(accuracy)"
   ]
  },
  {
   "cell_type": "code",
   "execution_count": 221,
   "metadata": {},
   "outputs": [
    {
     "name": "stdout",
     "output_type": "stream",
     "text": [
      "0.6666666666666666\n"
     ]
    }
   ],
   "source": [
    "model = make_pipeline(StandardScaler(), \n",
    "                      MLPClassifier(random_state=1, hidden_layer_sizes=(100,200), max_iter=1000))\n",
    "model.fit(x_train, y_train)\n",
    "y_pred = model.predict(x_test)\n",
    "accuracy = accuracy_score(y_test, y_pred)\n",
    "print(accuracy)\n",
    "\n",
    "# scores = cross_val_score(model, x_gpt4, y_gpt4, cv=5)\n",
    "# print(scores.mean(), scores.std())"
   ]
  },
  {
   "cell_type": "code",
   "execution_count": null,
   "metadata": {},
   "outputs": [],
   "source": []
  }
 ],
 "metadata": {
  "kernelspec": {
   "display_name": "base",
   "language": "python",
   "name": "python3"
  },
  "language_info": {
   "codemirror_mode": {
    "name": "ipython",
    "version": 3
   },
   "file_extension": ".py",
   "mimetype": "text/x-python",
   "name": "python",
   "nbconvert_exporter": "python",
   "pygments_lexer": "ipython3",
   "version": "3.11.5"
  }
 },
 "nbformat": 4,
 "nbformat_minor": 2
}
