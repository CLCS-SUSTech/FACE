{
 "cells": [
  {
   "cell_type": "code",
   "execution_count": null,
   "metadata": {},
   "outputs": [
    {
     "name": "stderr",
     "output_type": "stream",
     "text": [
      "2024-11-17 14:18:39,982 - modelscope - INFO - PyTorch version 2.2.0 Found.\n",
      "2024-11-17 14:18:39,983 - modelscope - INFO - Loading ast index from /Users/xy/.cache/modelscope/ast_indexer\n",
      "2024-11-17 14:18:40,009 - modelscope - INFO - Loading done! Current index file version is 1.14.0, with md5 b6a37aa50898b7ca29cb870cc35ad7a7 and a total number of 976 components indexed\n"
     ]
    }
   ],
   "source": [
    "import sys\n",
    "sys.path.append('..')\n",
    "from config import load_config\n",
    "from model import CustomModel\n",
    "\n",
    "import torch.nn as nn\n",
    "import torch\n",
    "import torch.nn.functional as F"
   ]
  },
  {
   "cell_type": "markdown",
   "metadata": {},
   "source": [
    "Test HF model"
   ]
  },
  {
   "cell_type": "code",
   "execution_count": 1,
   "metadata": {},
   "outputs": [
    {
     "name": "stderr",
     "output_type": "stream",
     "text": [
      "/Users/xy/.pyenv/versions/miniconda3-latest/lib/python3.11/site-packages/huggingface_hub/file_download.py:1132: FutureWarning: `resume_download` is deprecated and will be removed in version 1.0.0. Downloads always resume when possible. If you want to force a new download, use `force_download=True`.\n",
      "  warnings.warn(\n"
     ]
    },
    {
     "data": {
      "application/vnd.jupyter.widget-view+json": {
       "model_id": "dafaad22ae894f3cb728ac25a84db100",
       "version_major": 2,
       "version_minor": 0
      },
      "text/plain": [
       "model.safetensors:   0%|          | 0.00/548M [00:00<?, ?B/s]"
      ]
     },
     "metadata": {},
     "output_type": "display_data"
    },
    {
     "data": {
      "application/vnd.jupyter.widget-view+json": {
       "model_id": "d3f5f0da03d84bddac018740d1327a69",
       "version_major": 2,
       "version_minor": 0
      },
      "text/plain": [
       "generation_config.json:   0%|          | 0.00/124 [00:00<?, ?B/s]"
      ]
     },
     "metadata": {},
     "output_type": "display_data"
    }
   ],
   "source": [
    "from transformers import GPT2LMHeadModel, GPT2Tokenizer\n",
    "\n",
    "model1 = GPT2LMHeadModel.from_pretrained('gpt2')\n",
    "tokenizer1 = GPT2Tokenizer.from_pretrained('gpt2')"
   ]
  },
  {
   "cell_type": "code",
   "execution_count": 11,
   "metadata": {},
   "outputs": [],
   "source": [
    "criterian = nn.NLLLoss(reduction='none')\n",
    "log_softmax = nn.LogSoftmax(dim=1)"
   ]
  },
  {
   "cell_type": "code",
   "execution_count": 15,
   "metadata": {},
   "outputs": [
    {
     "name": "stdout",
     "output_type": "stream",
     "text": [
      "input_ids:  tensor([[15496,    11,   995,     0]])\n",
      "input tokens: ['Hello', ',', 'Ġworld', '!']\n",
      "outputs.logits:  torch.Size([1, 4, 50257])\n",
      "outputs.loss:  tensor(4.1283)\n"
     ]
    }
   ],
   "source": [
    "input_str = 'Hello, world!'\n",
    "\n",
    "input_encoded = tokenizer1(input_str, return_tensors='pt')\n",
    "with torch.no_grad():\n",
    "    outputs = model1(**input_encoded, labels=input_encoded['input_ids'])\n",
    "\n",
    "print('input_ids: ', input_encoded['input_ids'])\n",
    "print('input tokens:', tokenizer1.convert_ids_to_tokens(input_encoded['input_ids'][0]))\n",
    "\n",
    "print('outputs.logits: ', outputs.logits.shape)\n",
    "print('outputs.loss: ', outputs.loss)"
   ]
  },
  {
   "cell_type": "code",
   "execution_count": 12,
   "metadata": {},
   "outputs": [
    {
     "name": "stdout",
     "output_type": "stream",
     "text": [
      "permuted logits:  torch.Size([1, 50257, 4])\n"
     ]
    }
   ],
   "source": [
    "logits = outputs.logits\n",
    "logits = torch.permute(logits, (0, 2, 1)) # B,L,V -> B,V,L # Reason: nn.NLLLoss requires class to be of dimension 1\n",
    "print('permuted logits: ', logits.shape)"
   ]
  },
  {
   "cell_type": "code",
   "execution_count": 38,
   "metadata": {},
   "outputs": [
    {
     "name": "stdout",
     "output_type": "stream",
     "text": [
      "shift_logits:  torch.Size([1, 50257, 3])\n",
      "shift_targets:  tensor([[ 11, 995,   0]])\n"
     ]
    }
   ],
   "source": [
    "targets = input_encoded['input_ids']\n",
    "shift_logits = logits[:, :, :-1]\n",
    "shift_targets = targets[:, 1:]\n",
    "\n",
    "print('shift_logits: ', shift_logits.shape)\n",
    "print('shift_targets: ', shift_targets)"
   ]
  },
  {
   "cell_type": "code",
   "execution_count": 39,
   "metadata": {},
   "outputs": [
    {
     "name": "stdout",
     "output_type": "stream",
     "text": [
      "nlls:  tensor([2.3432, 8.0267, 2.0149])\n",
      "mean nlls:  tensor(4.1282)\n"
     ]
    }
   ],
   "source": [
    "nlls = criterian(log_softmax(shift_logits), shift_targets).squeeze()\n",
    "print('nlls: ', nlls)\n",
    "print('mean nlls: ', nlls.mean()) # ==> This is exactly the ouputs.loss"
   ]
  },
  {
   "cell_type": "code",
   "execution_count": null,
   "metadata": {},
   "outputs": [
    {
     "name": "stdout",
     "output_type": "stream",
     "text": [
      "torch.Size([50257, 3])\n",
      "most probable next token ids:  tensor([ 11, 314,  13])\n",
      "most probable next tokens:  [',', 'ĠI', '.']\n",
      "\n",
      "log_probs.shape:  torch.Size([50257, 3])\n",
      "nll0:  tensor(2.3432)\n",
      "nll1:  tensor(8.0267)\n",
      "nll2:  tensor(2.0149)\n"
     ]
    }
   ],
   "source": [
    "# manually double check the computed NLLs\n",
    "\n",
    "print(log_softmax(shift_logits)[0, :, :].shape)\n",
    "max_prob_next_ids = log_softmax(shift_logits)[0, :, :].argmax(dim=0)\n",
    "print('most probable next token ids: ', max_prob_next_ids)\n",
    "print('most probable next tokens: ', tokenizer1.convert_ids_to_tokens(max_prob_next_ids))\n",
    "\n",
    "print()\n",
    "log_probs = log_softmax(shift_logits)[0, :, :]\n",
    "print('log_probs.shape: ', log_probs.shape)\n",
    "\n",
    "nll0 = - log_probs[shift_targets[0, 0], 0]\n",
    "nll1 = - log_probs[shift_targets[0, 1], 1]\n",
    "nll2 = - log_probs[shift_targets[0, 2], 2]\n",
    "print('nll0: ', nll0)\n",
    "print('nll1: ', nll1)\n",
    "print('nll2: ', nll2)\n",
    "# These are exactly the same as the nlls computed by the above code"
   ]
  },
  {
   "cell_type": "code",
   "execution_count": 19,
   "metadata": {},
   "outputs": [
    {
     "name": "stdout",
     "output_type": "stream",
     "text": [
      "nlls_ns:  tensor([10.0143,  9.0923,  9.8088,  7.7748])\n"
     ]
    }
   ],
   "source": [
    "# what if we do not shift logits or targets?\n",
    "nlls_ns = criterian(log_softmax(logits), targets).squeeze()\n",
    "print('nlls_ns: ', nlls_ns)"
   ]
  },
  {
   "cell_type": "markdown",
   "metadata": {},
   "source": [
    "Test custom model"
   ]
  },
  {
   "cell_type": "code",
   "execution_count": null,
   "metadata": {},
   "outputs": [],
   "source": [
    "model = Model(\"/data1/model/mistral-7b-base/\")"
   ]
  },
  {
   "cell_type": "code",
   "execution_count": null,
   "metadata": {},
   "outputs": [],
   "source": [
    "logits, nlls = model.forward(\"Hello, world!\")"
   ]
  },
  {
   "cell_type": "code",
   "execution_count": null,
   "metadata": {},
   "outputs": [],
   "source": [
    "logits, nlls, token_ids = model.forward(\"Hello, world!\", return_tokens=True)\n",
    "print(logits.shape, nlls.shape, token_ids.shape)\n",
    "\n",
    "print(nlls)"
   ]
  },
  {
   "cell_type": "code",
   "execution_count": null,
   "metadata": {},
   "outputs": [],
   "source": [
    "logits, nlls, token_ids = model.forward(\"Hello, world!\", return_tokens=True)\n",
    "\n",
    "# Test if the above obtained nlls are equal to the ones obtained by the following code\n",
    "criterian = nn.NLLLoss(reduction='none')\n",
    "log_softmax = nn.LogSoftmax(dim=1)\n",
    "\n",
    "logits = torch.unsqueeze(logits, 0)\n",
    "# token_ids = torch.unsqueeze(token_ids, 0)\n",
    "print(logits.shape, token_ids.shape)"
   ]
  },
  {
   "cell_type": "code",
   "execution_count": null,
   "metadata": {},
   "outputs": [],
   "source": [
    "logits = torch.permute(logits, (0, 2, 1)) # B,L,V -> B,V,L # Reason: nn.NLLLoss requires class to be of dimension 1\n",
    "shift_logits = logits[:, :, :-1]\n",
    "shift_token_ids = token_ids[..., 1:]\n",
    "\n",
    "nlls2 = criterian(log_softmax(shift_logits), \n",
    "                  shift_token_ids)\n",
    "print(nlls2)\n",
    "print(nlls)\n",
    "# Inconsistent"
   ]
  },
  {
   "cell_type": "code",
   "execution_count": null,
   "metadata": {},
   "outputs": [],
   "source": [
    "# Try to fix nlls\n",
    "logits, nlls, token_ids = model.forward(\"Hello, world!\", return_tokens=True)\n",
    "\n",
    "probs = F.softmax(logits, dim=-1) # shape: [L, V]\n",
    "nlls_cands = torch.zeros(probs.shape[0], dtype=torch.float32)\n",
    "for i in range(probs.shape[0]-1):\n",
    "    nlls_cands[i] = -torch.log(probs[i, token_ids[0, i+1]])\n",
    "\n",
    "print(nlls_cands) # Now, it is fixed"
   ]
  }
 ],
 "metadata": {
  "kernelspec": {
   "display_name": "base",
   "language": "python",
   "name": "python3"
  },
  "language_info": {
   "codemirror_mode": {
    "name": "ipython",
    "version": 3
   },
   "file_extension": ".py",
   "mimetype": "text/x-python",
   "name": "python",
   "nbconvert_exporter": "python",
   "pygments_lexer": "ipython3",
   "version": "3.11.5"
  }
 },
 "nbformat": 4,
 "nbformat_minor": 2
}
