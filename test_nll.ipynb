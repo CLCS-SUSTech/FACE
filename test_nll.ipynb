{
 "cells": [
  {
   "cell_type": "code",
   "execution_count": 1,
   "metadata": {},
   "outputs": [
    {
     "name": "stderr",
     "output_type": "stream",
     "text": [
      "2024-04-26 15:23:48,011 - modelscope - INFO - PyTorch version 2.1.2 Found.\n",
      "2024-04-26 15:23:48,014 - modelscope - INFO - Loading ast index from /home/xy/.cache/modelscope/ast_indexer\n",
      "2024-04-26 15:23:48,048 - modelscope - INFO - Loading done! Current index file version is 1.10.0, with md5 6e478ed3c0dd6cfea723055784ffd6ea and a total number of 946 components indexed\n",
      "/home/xy/.conda/envs/pytorch/lib/python3.11/site-packages/tqdm/auto.py:21: TqdmWarning: IProgress not found. Please update jupyter and ipywidgets. See https://ipywidgets.readthedocs.io/en/stable/user_install.html\n",
      "  from .autonotebook import tqdm as notebook_tqdm\n"
     ]
    }
   ],
   "source": [
    "from config import load_config\n",
    "from model import Model\n",
    "\n",
    "import torch.nn as nn\n",
    "import torch\n",
    "import torch.nn.functional as F"
   ]
  },
  {
   "cell_type": "code",
   "execution_count": 2,
   "metadata": {},
   "outputs": [
    {
     "name": "stderr",
     "output_type": "stream",
     "text": [
      "Loading checkpoint shards: 100%|██████████| 2/2 [00:15<00:00,  7.53s/it]\n"
     ]
    }
   ],
   "source": [
    "model = Model(\"/data1/model/mistral-7b-base/\")"
   ]
  },
  {
   "cell_type": "code",
   "execution_count": 3,
   "metadata": {},
   "outputs": [],
   "source": [
    "logits, nlls = model.forward(\"Hello, world!\")"
   ]
  },
  {
   "cell_type": "code",
   "execution_count": 4,
   "metadata": {},
   "outputs": [
    {
     "name": "stdout",
     "output_type": "stream",
     "text": [
      "torch.Size([5, 32000]) torch.Size([4]) torch.Size([1, 5])\n",
      "tensor([6.7697, 1.4773, 5.7972, 0.3862])\n"
     ]
    }
   ],
   "source": [
    "logits, nlls, token_ids = model.forward(\"Hello, world!\", return_tokens=True)\n",
    "print(logits.shape, nlls.shape, token_ids.shape)\n",
    "\n",
    "print(nlls)"
   ]
  },
  {
   "cell_type": "code",
   "execution_count": 5,
   "metadata": {},
   "outputs": [
    {
     "name": "stdout",
     "output_type": "stream",
     "text": [
      "torch.Size([1, 5, 32000]) torch.Size([1, 5])\n"
     ]
    }
   ],
   "source": [
    "logits, nlls, token_ids = model.forward(\"Hello, world!\", return_tokens=True)\n",
    "\n",
    "# Test if the above obtained nlls are equal to the ones obtained by the following code\n",
    "criterian = nn.NLLLoss(reduction='none')\n",
    "log_softmax = nn.LogSoftmax(dim=1)\n",
    "\n",
    "logits = torch.unsqueeze(logits, 0)\n",
    "# token_ids = torch.unsqueeze(token_ids, 0)\n",
    "print(logits.shape, token_ids.shape)"
   ]
  },
  {
   "cell_type": "code",
   "execution_count": 6,
   "metadata": {},
   "outputs": [
    {
     "name": "stdout",
     "output_type": "stream",
     "text": [
      "tensor([[6.7695, 1.4772, 5.7971, 0.3862]])\n",
      "tensor([6.7697, 1.4773, 5.7972, 0.3862])\n"
     ]
    }
   ],
   "source": [
    "logits = torch.permute(logits, (0, 2, 1)) # B,L,V -> B,V,L # Reason: nn.NLLLoss requires class to be of dimension 1\n",
    "shift_logits = logits[:, :, :-1]\n",
    "shift_token_ids = token_ids[..., 1:]\n",
    "\n",
    "nlls2 = criterian(log_softmax(shift_logits), \n",
    "                  shift_token_ids)\n",
    "print(nlls2)\n",
    "print(nlls)\n",
    "# Inconsistent"
   ]
  },
  {
   "cell_type": "code",
   "execution_count": null,
   "metadata": {},
   "outputs": [],
   "source": [
    "# Try to fix nlls\n",
    "logits, nlls, token_ids = model.forward(\"Hello, world!\", return_tokens=True)\n",
    "\n",
    "probs = F.softmax(logits, dim=-1) # shape: [L, V]\n",
    "nlls_cands = torch.zeros(probs.shape[0], dtype=torch.float32)\n",
    "for i in range(probs.shape[0]-1):\n",
    "    nlls_cands[i] = -torch.log(probs[i, token_ids[0, i+1]])\n",
    "\n",
    "print(nlls_cands) # Now, it is fixed"
   ]
  }
 ],
 "metadata": {
  "kernelspec": {
   "display_name": "pytorch",
   "language": "python",
   "name": "python3"
  },
  "language_info": {
   "codemirror_mode": {
    "name": "ipython",
    "version": 3
   },
   "file_extension": ".py",
   "mimetype": "text/x-python",
   "name": "python",
   "nbconvert_exporter": "python",
   "pygments_lexer": "ipython3",
   "version": "3.11.7"
  }
 },
 "nbformat": 4,
 "nbformat_minor": 2
}
