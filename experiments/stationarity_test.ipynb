{
 "cells": [
  {
   "cell_type": "code",
   "execution_count": 29,
   "metadata": {},
   "outputs": [],
   "source": [
    "import sys\n",
    "sys.path.append('..')\n",
    "import glob\n",
    "import os\n",
    "\n",
    "from run_fft import FFTProcessor\n",
    "fft_processor = FFTProcessor(method='fft', preprocess='none', value='norm', require_sid=True)"
   ]
  },
  {
   "cell_type": "code",
   "execution_count": null,
   "metadata": {},
   "outputs": [
    {
     "name": "stdout",
     "output_type": "stream",
     "text": [
      "The rpy2.ipython extension is already loaded. To reload it, use:\n",
      "  %reload_ext rpy2.ipython\n"
     ]
    },
    {
     "data": {
      "text/html": [
       "\n",
       "        <span>BoolVector with 1 elements.</span>\n",
       "        <table>\n",
       "        <tbody>\n",
       "          <tr>\n",
       "          \n",
       "            <td>\n",
       "                   1\n",
       "            </td>\n",
       "          \n",
       "          </tr>\n",
       "        </tbody>\n",
       "        </table>\n",
       "        "
      ],
      "text/plain": [
       "<rpy2.robjects.vectors.BoolVector object at 0x350a09a50> [10]\n",
       "R classes: ('logical',)\n",
       "[       1]"
      ]
     },
     "execution_count": 7,
     "metadata": {},
     "output_type": "execute_result"
    }
   ],
   "source": [
    "import rpy2\n",
    "%load_ext rpy2.ipython\n",
    "\n",
    "%R require(\"data.table\")\n",
    "%R require(\"ggplot2\")\n",
    "%R require(\"stringr\")\n",
    "%R require(\"fpp2\") # https://github.com/robjhyndman/fpp2-package, required for adf.test"
   ]
  },
  {
   "cell_type": "markdown",
   "metadata": {},
   "source": [
    "A simple example to showcase the stationarity test"
   ]
  },
  {
   "cell_type": "code",
   "execution_count": 6,
   "metadata": {},
   "outputs": [
    {
     "name": "stdout",
     "output_type": "stream",
     "text": [
      "\n",
      "\tAugmented Dickey-Fuller Test\n",
      "\n",
      "data:  x\n",
      "Dickey-Fuller = -11.065, Lag order = 9, p-value = 0.01\n",
      "alternative hypothesis: stationary\n",
      "\n"
     ]
    }
   ],
   "source": [
    "%%R \n",
    "\n",
    "# Example on a random data\n",
    "x <- rnorm(1000)\n",
    "\n",
    "defaultW <- getOption(\"warn\")\n",
    "options(warn = -1) # suppress warnings\n",
    "\n",
    "adfpval <- adf.test(x) # Augmented Dickey-Fuller test\n",
    "\n",
    "options(warn = defaultW) # restore warnings\n",
    "print(adfpval)\n",
    "\n",
    "# Expected output:\n",
    "# Dickey-Fuller = (some value around -10), Lag order = 9, p-value = 0.01\n",
    "# alternative hypothesis: stationary\n",
    "\n",
    "# If warnings are not supressed, you will see\n",
    "# In adf.test(x) : p-value smaller than printed p-value\n",
    "\n",
    "# Conclusion: reject the null hypothesis, which means the series is stationary"
   ]
  },
  {
   "cell_type": "markdown",
   "metadata": {},
   "source": [
    "Prepare data for stationarity test"
   ]
  },
  {
   "cell_type": "code",
   "execution_count": 30,
   "metadata": {},
   "outputs": [],
   "source": [
    "def load_df_from_dir(dir_path):\n",
    "    data_files = glob.glob(os.path.join(dir_path, '*.nll'))\n",
    "    nll = []\n",
    "    for file in data_files:\n",
    "        nll.extend(fft_processor._read_data(file))\n",
    "    return fft_processor._create_input_df(nll)"
   ]
  },
  {
   "cell_type": "code",
   "execution_count": 33,
   "metadata": {},
   "outputs": [],
   "source": [
    "# Load GPT2 data\n",
    "df_gpt2_news = load_df_from_dir('../data/gpt2/news_split')\n",
    "df_gpt2_story = load_df_from_dir('../data/gpt2/story_split')\n",
    "df_gpt2_wiki = load_df_from_dir('../data/gpt2/wiki_split')\n",
    "\n",
    "df_gpt2xl_news = load_df_from_dir('../data/gpt2-xl/news_split')\n",
    "df_gpt2xl_story = load_df_from_dir('../data/gpt2-xl/story_split')\n",
    "df_gpt2xl_wiki = load_df_from_dir('../data/gpt2-xl/wiki_split')"
   ]
  },
  {
   "cell_type": "code",
   "execution_count": 44,
   "metadata": {},
   "outputs": [],
   "source": [
    "# Load BLOOM data\n",
    "df_bloom_sm_news = load_df_from_dir('../data/bloom-560m/news_split')\n",
    "df_bloom_sm_story = load_df_from_dir('../data/bloom-560m/story_split')\n",
    "df_bloom_sm_wiki = load_df_from_dir('../data/bloom-560m/wiki_split')\n",
    "\n",
    "df_bloom_lg_news = load_df_from_dir('../data/bloom-7b/news_split')\n",
    "df_bloom_lg_story = load_df_from_dir('../data/bloom-7b/story_split')\n",
    "df_bloom_lg_wiki = load_df_from_dir('../data/bloom-7b/wiki_split')"
   ]
  },
  {
   "cell_type": "code",
   "execution_count": 49,
   "metadata": {},
   "outputs": [],
   "source": [
    "# Load OPT data\n",
    "df_opt_sm_news = load_df_from_dir('../data/opt-125m/news_split')\n",
    "df_opt_sm_story = load_df_from_dir('../data/opt-125m/story_split')\n",
    "df_opt_sm_wiki = load_df_from_dir('../data/opt-125m/wiki_split')\n",
    "\n",
    "df_opt_lg_news = load_df_from_dir('../data/opt-6.7b/news_split')\n",
    "df_opt_lg_story = load_df_from_dir('../data/opt-6.7b/story_split')\n",
    "df_opt_lg_wiki = load_df_from_dir('../data/opt-6.7b/wiki_split')"
   ]
  },
  {
   "cell_type": "markdown",
   "metadata": {},
   "source": [
    "Conduct tests"
   ]
  },
  {
   "cell_type": "code",
   "execution_count": 41,
   "metadata": {},
   "outputs": [],
   "source": [
    "%%R \n",
    "\n",
    "# The function to carry out adf.test for each series in a data.table\n",
    "ADF_test_DT <- function(dt) {\n",
    "  dt.test <- data.table(series_id = numeric(),\n",
    "                        series_len = numeric(),\n",
    "                        adfpval = numeric()\n",
    "  )\n",
    "  # Suppress warning\n",
    "  defaultW <- getOption(\"warn\")\n",
    "  options(warn = -1)\n",
    "  unique_series_ids <- unique(dt$sid)\n",
    "  for (i in 1:length(unique_series_ids)) {\n",
    "    s_id <- unique_series_ids[i]\n",
    "    value <- dt[sid == s_id]$value\n",
    "    if (length(value) < 10) {next}\n",
    "    adfpval <- adf.test(value)$p.value # Augmented Dickey-Fuller test\n",
    "    tmp <- data.table(series_id = s_id,\n",
    "                      series_len = length(value),\n",
    "                      adfpval = adfpval\n",
    "    )\n",
    "    dt.test <- rbindlist(list(dt.test, tmp))\n",
    "    # slow, so print progress\n",
    "    # if (i %% 500 == 0) {\n",
    "    #   write(paste0(\"\\rFinished \", i, \" out of \", length(unique_series_ids)), stdout())\n",
    "    # }\n",
    "  }\n",
    "  # Restore warning\n",
    "  options(warn = defaultW)\n",
    "  dt.test\n",
    "}"
   ]
  },
  {
   "cell_type": "code",
   "execution_count": 42,
   "metadata": {},
   "outputs": [
    {
     "data": {
      "text/plain": [
       "<rpy2.robjects.functions.SignatureTranslatedFunction object at 0x4263db8d0> [3]\n",
       "R classes: ('function',)"
      ]
     },
     "execution_count": 42,
     "metadata": {},
     "output_type": "execute_result"
    }
   ],
   "source": [
    "# Test if the function is loaded \n",
    "rpy2.robjects.globalenv['ADF_test_DT']"
   ]
  },
  {
   "cell_type": "code",
   "execution_count": 47,
   "metadata": {},
   "outputs": [
    {
     "name": "stdout",
     "output_type": "stream",
     "text": [
      "[1] \"BLOOM-small news proportion: 0.6042\"\n",
      "[1] \"BLOOM-small wiki proportion: 0.6104\"\n",
      "[1] \"BLOOM-small story proportion: 0.430241935483871\"\n",
      "[1] \"BLOOM-large news proportion: 0.9302\"\n",
      "[1] \"BLOOM-large wiki proportion: 0.9656\"\n",
      "[1] \"BLOOM-large story proportion: 0.904408817635271\"\n"
     ]
    }
   ],
   "source": [
    "%%R -i df_bloom_sm_news -i df_bloom_sm_wiki -i df_bloom_sm_story -i df_bloom_lg_news -i df_bloom_lg_wiki -i df_bloom_lg_story\n",
    "\n",
    "# BLOOM-small\n",
    "dt.bloom.sm.news <- data.table(df_bloom_sm_news)\n",
    "dt.bloom.sm.news.test <- ADF_test_DT(dt.bloom.sm.news)\n",
    "prop <- nrow(dt.bloom.sm.news.test[adfpval < 0.05]) / nrow(dt.bloom.sm.news.test)\n",
    "print(str_interp(\"BLOOM-small news proportion: ${prop}\")) # This the proportion of series that pass the test\n",
    "\n",
    "dt.bloom.sm.wiki <- data.table(df_bloom_sm_wiki)\n",
    "dt.bloom.sm.wiki.test <- ADF_test_DT(dt.bloom.sm.wiki)\n",
    "prop <- nrow(dt.bloom.sm.wiki.test[adfpval < 0.05]) / nrow(dt.bloom.sm.wiki.test)\n",
    "print(str_interp(\"BLOOM-small wiki proportion: ${prop}\"))\n",
    "\n",
    "dt.bloom.sm.story <- data.table(df_bloom_sm_story)\n",
    "dt.bloom.sm.story.test <- ADF_test_DT(dt.bloom.sm.story)\n",
    "prop <- nrow(dt.bloom.sm.story.test[adfpval < 0.05]) / nrow(dt.bloom.sm.story.test)\n",
    "print(str_interp(\"BLOOM-small story proportion: ${prop}\"))\n",
    "\n",
    "# BLOOM-large\n",
    "dt.bloom.lg.news <- data.table(df_bloom_lg_news)\n",
    "dt.bloom.lg.news.test <- ADF_test_DT(dt.bloom.lg.news)\n",
    "prop <- nrow(dt.bloom.lg.news.test[adfpval < 0.05]) / nrow(dt.bloom.lg.news.test)\n",
    "print(str_interp(\"BLOOM-large news proportion: ${prop}\"))\n",
    "\n",
    "dt.bloom.lg.wiki <- data.table(df_bloom_lg_wiki)\n",
    "dt.bloom.lg.wiki.test <- ADF_test_DT(dt.bloom.lg.wiki)\n",
    "prop <- nrow(dt.bloom.lg.wiki.test[adfpval < 0.05]) / nrow(dt.bloom.lg.wiki.test)\n",
    "print(str_interp(\"BLOOM-large wiki proportion: ${prop}\"))\n",
    "\n",
    "dt.bloom.lg.story <- data.table(df_bloom_lg_story)\n",
    "dt.bloom.lg.story.test <- ADF_test_DT(dt.bloom.lg.story)\n",
    "prop <- nrow(dt.bloom.lg.story.test[adfpval < 0.05]) / nrow(dt.bloom.lg.story.test)\n",
    "print(str_interp(\"BLOOM-large story proportion: ${prop}\"))"
   ]
  },
  {
   "cell_type": "code",
   "execution_count": 48,
   "metadata": {},
   "outputs": [
    {
     "name": "stdout",
     "output_type": "stream",
     "text": [
      "[1] \"GPT2 news proportion: 0.9682\"\n",
      "[1] \"GPT2 wiki proportion: 0.9778\"\n",
      "[1] \"GPT2 story proportion: 0.9718\"\n",
      "[1] \"GPT2-xl news proportion: 0.975\"\n",
      "[1] \"GPT2-xl wiki proportion: 0.9814\"\n",
      "[1] \"GPT2-xl story proportion: 0.9684\"\n"
     ]
    }
   ],
   "source": [
    "%%R -i df_gpt2_news -i df_gpt2_wiki -i df_gpt2_story -i df_gpt2xl_news -i df_gpt2xl_wiki -i df_gpt2xl_story\n",
    "\n",
    "# GPT2\n",
    "dt.gpt2.news <- data.table(df_gpt2_news)\n",
    "dt.gpt2.news.test <- ADF_test_DT(dt.gpt2.news)\n",
    "prop <- nrow(dt.gpt2.news.test[adfpval < 0.05]) / nrow(dt.gpt2.news.test)\n",
    "print(str_interp(\"GPT2 news proportion: ${prop}\"))\n",
    "\n",
    "dt.gpt2.wiki <- data.table(df_gpt2_wiki)\n",
    "dt.gpt2.wiki.test <- ADF_test_DT(dt.gpt2.wiki)\n",
    "prop <- nrow(dt.gpt2.wiki.test[adfpval < 0.05]) / nrow(dt.gpt2.wiki.test)\n",
    "print(str_interp(\"GPT2 wiki proportion: ${prop}\"))\n",
    "\n",
    "dt.gpt2.story <- data.table(df_gpt2_story)\n",
    "dt.gpt2.story.test <- ADF_test_DT(dt.gpt2.story)\n",
    "prop <- nrow(dt.gpt2.story.test[adfpval < 0.05]) / nrow(dt.gpt2.story.test)\n",
    "print(str_interp(\"GPT2 story proportion: ${prop}\"))\n",
    "\n",
    "# GPT2-xl\n",
    "dt.gpt2xl.news <- data.table(df_gpt2xl_news)\n",
    "dt.gpt2xl.news.test <- ADF_test_DT(dt.gpt2xl.news)\n",
    "prop <- nrow(dt.gpt2xl.news.test[adfpval < 0.05]) / nrow(dt.gpt2xl.news.test)\n",
    "print(str_interp(\"GPT2-xl news proportion: ${prop}\"))\n",
    "\n",
    "dt.gpt2xl.wiki <- data.table(df_gpt2xl_wiki)\n",
    "dt.gpt2xl.wiki.test <- ADF_test_DT(dt.gpt2xl.wiki)\n",
    "prop <- nrow(dt.gpt2xl.wiki.test[adfpval < 0.05]) / nrow(dt.gpt2xl.wiki.test)\n",
    "print(str_interp(\"GPT2-xl wiki proportion: ${prop}\"))\n",
    "\n",
    "dt.gpt2xl.story <- data.table(df_gpt2xl_story)\n",
    "dt.gpt2xl.story.test <- ADF_test_DT(dt.gpt2xl.story)\n",
    "prop <- nrow(dt.gpt2xl.story.test[adfpval < 0.05]) / nrow(dt.gpt2xl.story.test)\n",
    "print(str_interp(\"GPT2-xl story proportion: ${prop}\"))"
   ]
  },
  {
   "cell_type": "code",
   "execution_count": 50,
   "metadata": {},
   "outputs": [
    {
     "name": "stdout",
     "output_type": "stream",
     "text": [
      "[1] \"OPT-small news proportion: 0.9856\"\n",
      "[1] \"OPT-small wiki proportion: 0.9656\"\n",
      "[1] \"OPT-small story proportion: 0.846\"\n",
      "[1] \"OPT-large news proportion: 0.9794\"\n",
      "[1] \"OPT-large wiki proportion: 0.957\"\n",
      "[1] \"OPT-large story proportion: 0.7924\"\n"
     ]
    }
   ],
   "source": [
    "%%R -i df_opt_sm_news -i df_opt_sm_wiki -i df_opt_sm_story -i df_opt_lg_news -i df_opt_lg_wiki -i df_opt_lg_story\n",
    "\n",
    "# OPT-small\n",
    "dt.opt.sm.news <- data.table(df_opt_sm_news)\n",
    "dt.opt.sm.news.test <- ADF_test_DT(dt.opt.sm.news)\n",
    "prop <- nrow(dt.opt.sm.news.test[adfpval < 0.05]) / nrow(dt.opt.sm.news.test)\n",
    "print(str_interp(\"OPT-small news proportion: ${prop}\"))\n",
    "\n",
    "dt.opt.sm.wiki <- data.table(df_opt_sm_wiki)\n",
    "dt.opt.sm.wiki.test <- ADF_test_DT(dt.opt.sm.wiki)\n",
    "prop <- nrow(dt.opt.sm.wiki.test[adfpval < 0.05]) / nrow(dt.opt.sm.wiki.test)\n",
    "print(str_interp(\"OPT-small wiki proportion: ${prop}\"))\n",
    "\n",
    "dt.opt.sm.story <- data.table(df_opt_sm_story)\n",
    "dt.opt.sm.story.test <- ADF_test_DT(dt.opt.sm.story)\n",
    "prop <- nrow(dt.opt.sm.story.test[adfpval < 0.05]) / nrow(dt.opt.sm.story.test)\n",
    "print(str_interp(\"OPT-small story proportion: ${prop}\"))\n",
    "\n",
    "# OPT-large\n",
    "dt.opt.lg.news <- data.table(df_opt_lg_news)\n",
    "dt.opt.lg.news.test <- ADF_test_DT(dt.opt.lg.news)\n",
    "prop <- nrow(dt.opt.lg.news.test[adfpval < 0.05]) / nrow(dt.opt.lg.news.test)\n",
    "print(str_interp(\"OPT-large news proportion: ${prop}\"))\n",
    "\n",
    "dt.opt.lg.wiki <- data.table(df_opt_lg_wiki)\n",
    "dt.opt.lg.wiki.test <- ADF_test_DT(dt.opt.lg.wiki)\n",
    "prop <- nrow(dt.opt.lg.wiki.test[adfpval < 0.05]) / nrow(dt.opt.lg.wiki.test)\n",
    "print(str_interp(\"OPT-large wiki proportion: ${prop}\"))\n",
    "\n",
    "dt.opt.lg.story <- data.table(df_opt_lg_story)\n",
    "dt.opt.lg.story.test <- ADF_test_DT(dt.opt.lg.story)\n",
    "prop <- nrow(dt.opt.lg.story.test[adfpval < 0.05]) / nrow(dt.opt.lg.story.test)\n",
    "print(str_interp(\"OPT-large story proportion: ${prop}\"))"
   ]
  }
 ],
 "metadata": {
  "kernelspec": {
   "display_name": "base",
   "language": "python",
   "name": "python3"
  },
  "language_info": {
   "codemirror_mode": {
    "name": "ipython",
    "version": 3
   },
   "file_extension": ".py",
   "mimetype": "text/x-python",
   "name": "python",
   "nbconvert_exporter": "python",
   "pygments_lexer": "ipython3",
   "version": "3.11.5"
  }
 },
 "nbformat": 4,
 "nbformat_minor": 2
}
