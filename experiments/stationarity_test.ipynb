{
 "cells": [
  {
   "cell_type": "code",
   "execution_count": 10,
   "metadata": {},
   "outputs": [],
   "source": [
    "import sys\n",
    "sys.path.append('..')\n",
    "import glob\n",
    "\n",
    "from run_fft import FFTProcessor\n",
    "fft_processor = FFTProcessor(method='fft', preprocess='none', value='norm', require_sid=True)"
   ]
  },
  {
   "cell_type": "code",
   "execution_count": 7,
   "metadata": {},
   "outputs": [
    {
     "name": "stdout",
     "output_type": "stream",
     "text": [
      "The rpy2.ipython extension is already loaded. To reload it, use:\n",
      "  %reload_ext rpy2.ipython\n"
     ]
    },
    {
     "data": {
      "text/html": [
       "\n",
       "        <span>BoolVector with 1 elements.</span>\n",
       "        <table>\n",
       "        <tbody>\n",
       "          <tr>\n",
       "          \n",
       "            <td>\n",
       "                   1\n",
       "            </td>\n",
       "          \n",
       "          </tr>\n",
       "        </tbody>\n",
       "        </table>\n",
       "        "
      ],
      "text/plain": [
       "<rpy2.robjects.vectors.BoolVector object at 0x350a09a50> [10]\n",
       "R classes: ('logical',)\n",
       "[       1]"
      ]
     },
     "execution_count": 7,
     "metadata": {},
     "output_type": "execute_result"
    }
   ],
   "source": [
    "import rpy2\n",
    "%load_ext rpy2.ipython\n",
    "\n",
    "%R require(\"data.table\")\n",
    "%R require(\"ggplot2\")\n",
    "%R require(\"stringr\")\n",
    "%R require(\"fpp2\") # https://github.com/robjhyndman/fpp2-package\n",
    "# %R require(\"forecast\")\n",
    "# %R require(\"urca\") # https://xiaorui.site/Forecasting-and-Time-Series-Methods/Lecture/5_ADF.html\n",
    "# %R require(\"tseries\") # This package provide adf.test()"
   ]
  },
  {
   "cell_type": "markdown",
   "metadata": {},
   "source": [
    "A simple example to showcase the stationarity test"
   ]
  },
  {
   "cell_type": "code",
   "execution_count": 6,
   "metadata": {},
   "outputs": [
    {
     "name": "stdout",
     "output_type": "stream",
     "text": [
      "\n",
      "\tAugmented Dickey-Fuller Test\n",
      "\n",
      "data:  x\n",
      "Dickey-Fuller = -11.065, Lag order = 9, p-value = 0.01\n",
      "alternative hypothesis: stationary\n",
      "\n"
     ]
    }
   ],
   "source": [
    "%%R \n",
    "\n",
    "# Example on a random data\n",
    "x <- rnorm(1000)\n",
    "\n",
    "defaultW <- getOption(\"warn\")\n",
    "options(warn = -1) # suppress warnings\n",
    "\n",
    "adfpval <- adf.test(x) # Augmented Dickey-Fuller test\n",
    "\n",
    "options(warn = defaultW) # restore warnings\n",
    "print(adfpval)\n",
    "\n",
    "# Expected output:\n",
    "# Dickey-Fuller = (some value around -10), Lag order = 9, p-value = 0.01\n",
    "# alternative hypothesis: stationary\n",
    "\n",
    "# If warnings are not supressed, you will see\n",
    "# In adf.test(x) : p-value smaller than printed p-value\n",
    "\n",
    "# Conclusion: reject the null hypothesis, which means the series is stationary"
   ]
  },
  {
   "cell_type": "markdown",
   "metadata": {},
   "source": [
    "Prepare data for stationarity test"
   ]
  },
  {
   "cell_type": "code",
   "execution_count": 19,
   "metadata": {},
   "outputs": [],
   "source": [
    "# Load BLOOM data\n",
    "\n",
    "data_files_news_bloom = glob.glob('../data/bloom/news_split/*.nll')\n",
    "nll_bloom_news = []\n",
    "for file in data_files_news_bloom:\n",
    "    nll = fft_processor._read_data(file)\n",
    "    nll_bloom_news.extend(nll)\n",
    "df_bloom_news = fft_processor._create_input_df(nll_bloom_news)\n",
    "\n",
    "data_files_bloom_wiki = glob.glob('../data/bloom/wiki_split/*.nll')\n",
    "nll_bloom_wiki = []\n",
    "for file in data_files_bloom_wiki:\n",
    "    nll = fft_processor._read_data(file)\n",
    "    nll_bloom_wiki.extend(nll)\n",
    "df_bloom_wiki = fft_processor._create_input_df(nll_bloom_wiki)\n",
    "\n",
    "data_files_bloom_story = glob.glob('../data/bloom/story_split/*.nll')\n",
    "nll_bloom_story = []\n",
    "for file in data_files_bloom_story:\n",
    "    nll = fft_processor._read_data(file)\n",
    "    nll_bloom_story.extend(nll)\n",
    "df_bloom_story = fft_processor._create_input_df(nll_bloom_story)"
   ]
  },
  {
   "cell_type": "markdown",
   "metadata": {},
   "source": [
    "Conduct tests"
   ]
  },
  {
   "cell_type": "code",
   "execution_count": 25,
   "metadata": {},
   "outputs": [
    {
     "name": "stdout",
     "output_type": "stream",
     "text": [
      "[1] 0.7672\n"
     ]
    }
   ],
   "source": [
    "%%R -i df_bloom_news -i df_bloom_wiki -i df_bloom_story\n",
    "\n",
    "test_one_dt <- function(dt) {\n",
    "  dt.test <- data.table(series_id = numeric(),\n",
    "                        series_len = numeric(),\n",
    "                        adfpval = numeric()\n",
    "  )\n",
    "  # Suppress warning\n",
    "  defaultW <- getOption(\"warn\")\n",
    "  options(warn = -1)\n",
    "  unique_series_ids <- unique(dt$sid)\n",
    "  for (i in 1:length(unique_series_ids)) {\n",
    "    s_id <- unique_series_ids[i]\n",
    "    value <- dt[sid == s_id]$value\n",
    "    if (length(value) < 10) {next}\n",
    "    adfpval <- adf.test(value)$p.value # Augmented Dickey-Fuller test\n",
    "    tmp <- data.table(series_id = s_id,\n",
    "                      series_len = length(value),\n",
    "                      adfpval = adfpval\n",
    "    )\n",
    "    dt.test <- rbindlist(list(dt.test, tmp))\n",
    "    # slow, so print progress\n",
    "    # if (i %% 500 == 0) {\n",
    "    #   write(paste0(\"\\rFinished \", i, \" out of \", length(unique_series_ids)), stdout())\n",
    "    # }\n",
    "  }\n",
    "  # Restore warning\n",
    "  options(warn = defaultW)\n",
    "  dt.test\n",
    "}\n",
    "\n",
    "# BLOOM \n",
    "dt.bloom.news <- data.table(df_bloom_news)\n",
    "dt.bloom.news.test <- test_one_dt(dt.bloom.news)\n",
    "print(nrow(dt.bloom.news.test[adfpval < 0.05]) / nrow(dt.bloom.news.test)) # This the proportion of series that pass the test"
   ]
  }
 ],
 "metadata": {
  "kernelspec": {
   "display_name": "base",
   "language": "python",
   "name": "python3"
  },
  "language_info": {
   "codemirror_mode": {
    "name": "ipython",
    "version": 3
   },
   "file_extension": ".py",
   "mimetype": "text/x-python",
   "name": "python",
   "nbconvert_exporter": "python",
   "pygments_lexer": "ipython3",
   "version": "3.11.5"
  }
 },
 "nbformat": 4,
 "nbformat_minor": 2
}
